{
 "cells": [
  {
   "cell_type": "code",
   "execution_count": 47,
   "id": "13f43537",
   "metadata": {},
   "outputs": [],
   "source": [
    "import os\n",
    "\n",
    "import numpy as np\n",
    "import pandas as pd\n",
    "import ortools"
   ]
  },
  {
   "cell_type": "markdown",
   "id": "4c9659ec",
   "metadata": {},
   "source": [
    "Pallet EUR:\n",
    "\n",
    "|       |  $L\\times W\\times H (cm)$   | Load (kg)  |\n",
    "|:-----:|:--------------------------:|:--------:|\n",
    "| EUR 1 |  $80\\times 120\\times 14.5$ |  $2490$  |\n",
    "| EUR 2 | $120\\times 100\\times 14.4$ |  $1470$  |\n",
    "| EUR 3 | $100\\times 120\\times 14.4$ |  $1920$  |\n",
    "| EUR 6 |  $80\\times 60\\times 14.4$  |   $500$  |"
   ]
  },
  {
   "cell_type": "markdown",
   "id": "fbe61948",
   "metadata": {},
   "source": [
    "Container ISO:\n",
    "\n",
    "|   |  $L\\times W\\times H (cm)$  | Load (kg) |\n",
    "|:-:|:--------------------------:|:--------:|\n",
    "| 1A | $233\\times 1200\\times 220$ |  $26480$ |\n",
    "| 1C |  $233\\times 587\\times 220$ |  $28180$ |"
   ]
  },
  {
   "cell_type": "code",
   "execution_count": 23,
   "id": "785d0a63",
   "metadata": {},
   "outputs": [],
   "source": [
    "def gen_products(num_products, max_lenght, max_width, max_height, max_weight, decimals=2):\n",
    "    lenghts = np.around(np.random.uniform(low=1, high=max_lenght, size=num_products), decimals=decimals).reshape(-1, 1)\n",
    "    widths = np.around(np.random.uniform(low=1, high=max_width, size=num_products), decimals=decimals).reshape(-1, 1)\n",
    "    heights = np.around(np.random.uniform(low=1, high=max_height, size=num_products), decimals=decimals).reshape(-1, 1)\n",
    "    weights = np.around(np.random.uniform(low=1, high=max_weight, size=num_products), decimals=decimals).reshape(-1, 1)\n",
    "    data = np.concatenate((lenghts, widths, heights, weights), axis=1)\n",
    "    return pd.DataFrame(data, columns=[\"lenght\", \"width\", \"height\", \"weight\"])"
   ]
  },
  {
   "cell_type": "code",
   "execution_count": 50,
   "id": "45b20912",
   "metadata": {},
   "outputs": [],
   "source": [
    "num_products = 100\n",
    "max_lenght = 80\n",
    "max_width = 120\n",
    "max_height = 220\n",
    "max_weight = 200"
   ]
  },
  {
   "cell_type": "code",
   "execution_count": 51,
   "id": "15ce9e5d",
   "metadata": {},
   "outputs": [
    {
     "name": "stdout",
     "output_type": "stream",
     "text": [
      "Loading pickled products...\n"
     ]
    },
    {
     "data": {
      "text/html": [
       "<div>\n",
       "<style scoped>\n",
       "    .dataframe tbody tr th:only-of-type {\n",
       "        vertical-align: middle;\n",
       "    }\n",
       "\n",
       "    .dataframe tbody tr th {\n",
       "        vertical-align: top;\n",
       "    }\n",
       "\n",
       "    .dataframe thead th {\n",
       "        text-align: right;\n",
       "    }\n",
       "</style>\n",
       "<table border=\"1\" class=\"dataframe\">\n",
       "  <thead>\n",
       "    <tr style=\"text-align: right;\">\n",
       "      <th></th>\n",
       "      <th>lenght</th>\n",
       "      <th>width</th>\n",
       "      <th>height</th>\n",
       "      <th>weight</th>\n",
       "    </tr>\n",
       "  </thead>\n",
       "  <tbody>\n",
       "    <tr>\n",
       "      <th>0</th>\n",
       "      <td>4.01</td>\n",
       "      <td>29.47</td>\n",
       "      <td>206.73</td>\n",
       "      <td>56.46</td>\n",
       "    </tr>\n",
       "    <tr>\n",
       "      <th>1</th>\n",
       "      <td>69.16</td>\n",
       "      <td>62.40</td>\n",
       "      <td>217.25</td>\n",
       "      <td>131.52</td>\n",
       "    </tr>\n",
       "    <tr>\n",
       "      <th>2</th>\n",
       "      <td>45.61</td>\n",
       "      <td>94.00</td>\n",
       "      <td>73.12</td>\n",
       "      <td>161.12</td>\n",
       "    </tr>\n",
       "    <tr>\n",
       "      <th>3</th>\n",
       "      <td>15.82</td>\n",
       "      <td>100.96</td>\n",
       "      <td>133.61</td>\n",
       "      <td>69.82</td>\n",
       "    </tr>\n",
       "    <tr>\n",
       "      <th>4</th>\n",
       "      <td>71.32</td>\n",
       "      <td>98.94</td>\n",
       "      <td>27.13</td>\n",
       "      <td>155.64</td>\n",
       "    </tr>\n",
       "  </tbody>\n",
       "</table>\n",
       "</div>"
      ],
      "text/plain": [
       "   lenght   width  height  weight\n",
       "0    4.01   29.47  206.73   56.46\n",
       "1   69.16   62.40  217.25  131.52\n",
       "2   45.61   94.00   73.12  161.12\n",
       "3   15.82  100.96  133.61   69.82\n",
       "4   71.32   98.94   27.13  155.64"
      ]
     },
     "execution_count": 51,
     "metadata": {},
     "output_type": "execute_result"
    }
   ],
   "source": [
    "products_path = \"data/products.pkl\"\n",
    "if not os.path.exists(products_path):\n",
    "    print(\"Generating products...\")\n",
    "    products = gen_products(num_products, max_lenght, max_width, max_height, max_weight)\n",
    "    products.to_pickle(products_path)\n",
    "else:\n",
    "    print(\"Loading pickled products...\")\n",
    "    products = pd.read_pickle(products_path)\n",
    "products.head()"
   ]
  },
  {
   "cell_type": "code",
   "execution_count": 43,
   "id": "e29893eb",
   "metadata": {},
   "outputs": [],
   "source": [
    "def get_order(products, max_products, max_quantity):\n",
    "    quantities = pd.Series(np.random.randint(low=1, high=max_quantity, size=max_products), name=\"quantity\")\n",
    "    order = products.sample(max_products)\n",
    "    ids = pd.Series(order.index, name=\"id\")\n",
    "    return pd.concat([ids, order.reset_index(drop=True), quantities], axis=1)"
   ]
  },
  {
   "cell_type": "code",
   "execution_count": 52,
   "id": "f1a2a620",
   "metadata": {},
   "outputs": [],
   "source": [
    "max_products = 10\n",
    "max_quantity = 3"
   ]
  },
  {
   "cell_type": "code",
   "execution_count": 53,
   "id": "fe7f5671",
   "metadata": {},
   "outputs": [
    {
     "data": {
      "text/html": [
       "<div>\n",
       "<style scoped>\n",
       "    .dataframe tbody tr th:only-of-type {\n",
       "        vertical-align: middle;\n",
       "    }\n",
       "\n",
       "    .dataframe tbody tr th {\n",
       "        vertical-align: top;\n",
       "    }\n",
       "\n",
       "    .dataframe thead th {\n",
       "        text-align: right;\n",
       "    }\n",
       "</style>\n",
       "<table border=\"1\" class=\"dataframe\">\n",
       "  <thead>\n",
       "    <tr style=\"text-align: right;\">\n",
       "      <th></th>\n",
       "      <th>id</th>\n",
       "      <th>lenght</th>\n",
       "      <th>width</th>\n",
       "      <th>height</th>\n",
       "      <th>weight</th>\n",
       "      <th>quantity</th>\n",
       "    </tr>\n",
       "  </thead>\n",
       "  <tbody>\n",
       "    <tr>\n",
       "      <th>0</th>\n",
       "      <td>75</td>\n",
       "      <td>74.63</td>\n",
       "      <td>79.73</td>\n",
       "      <td>208.26</td>\n",
       "      <td>7.11</td>\n",
       "      <td>1</td>\n",
       "    </tr>\n",
       "    <tr>\n",
       "      <th>1</th>\n",
       "      <td>74</td>\n",
       "      <td>49.46</td>\n",
       "      <td>96.85</td>\n",
       "      <td>82.68</td>\n",
       "      <td>128.83</td>\n",
       "      <td>2</td>\n",
       "    </tr>\n",
       "    <tr>\n",
       "      <th>2</th>\n",
       "      <td>98</td>\n",
       "      <td>19.54</td>\n",
       "      <td>44.43</td>\n",
       "      <td>8.15</td>\n",
       "      <td>163.49</td>\n",
       "      <td>2</td>\n",
       "    </tr>\n",
       "    <tr>\n",
       "      <th>3</th>\n",
       "      <td>31</td>\n",
       "      <td>31.82</td>\n",
       "      <td>37.50</td>\n",
       "      <td>15.57</td>\n",
       "      <td>55.63</td>\n",
       "      <td>1</td>\n",
       "    </tr>\n",
       "    <tr>\n",
       "      <th>4</th>\n",
       "      <td>12</td>\n",
       "      <td>29.89</td>\n",
       "      <td>6.07</td>\n",
       "      <td>144.91</td>\n",
       "      <td>26.46</td>\n",
       "      <td>2</td>\n",
       "    </tr>\n",
       "  </tbody>\n",
       "</table>\n",
       "</div>"
      ],
      "text/plain": [
       "   id  lenght  width  height  weight  quantity\n",
       "0  75   74.63  79.73  208.26    7.11         1\n",
       "1  74   49.46  96.85   82.68  128.83         2\n",
       "2  98   19.54  44.43    8.15  163.49         2\n",
       "3  31   31.82  37.50   15.57   55.63         1\n",
       "4  12   29.89   6.07  144.91   26.46         2"
      ]
     },
     "execution_count": 53,
     "metadata": {},
     "output_type": "execute_result"
    }
   ],
   "source": [
    "order = get_order(products, max_products, max_quantity)\n",
    "order.head()"
   ]
  },
  {
   "cell_type": "code",
   "execution_count": null,
   "id": "095367d3",
   "metadata": {},
   "outputs": [],
   "source": []
  }
 ],
 "metadata": {
  "kernelspec": {
   "display_name": "Python 3",
   "language": "python",
   "name": "python3"
  },
  "language_info": {
   "codemirror_mode": {
    "name": "ipython",
    "version": 3
   },
   "file_extension": ".py",
   "mimetype": "text/x-python",
   "name": "python",
   "nbconvert_exporter": "python",
   "pygments_lexer": "ipython3",
   "version": "3.8.6"
  }
 },
 "nbformat": 4,
 "nbformat_minor": 5
}
